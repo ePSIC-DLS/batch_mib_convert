{
 "cells": [
  {
   "cell_type": "markdown",
   "metadata": {},
   "source": [
    "# Running cluster jobs to convert MIB files to HDF5 "
   ]
  },
  {
   "cell_type": "markdown",
   "metadata": {},
   "source": [
    "Open this notebook by running the follwoing in a Terminal (**not on Jupyterhub!**)\n",
    "    \n",
    "*module load python/epsic3.7*\n",
    "    \n",
    "*jupyter notebook*\n",
    "\n",
    "And then opening this notebook."
   ]
  },
  {
   "cell_type": "markdown",
   "metadata": {},
   "source": [
    "## If you have your MIB data grouped into sub-folders, e.g. sample names edit and run the follwoing command:\n",
    "The converted files will be appearing in the *Processing* folder of this visit with similar folder structure."
   ]
  },
  {
   "cell_type": "code",
   "execution_count": 13,
   "metadata": {},
   "outputs": [
    {
     "name": "stdout",
     "output_type": "stream",
     "text": [
      "processing path:  /dls/e02/data/2022/mg31270-1/processing/Merlin/Xe_300kV\n",
      "number of MIB files to convert to HDF5 :  4\n",
      "\t\n",
      "\n",
      "\t Welcome to the DLS compute cluster\n",
      "\n",
      "\t For MPI jobs, please use 'module load openmpi'.\n",
      "\n",
      "\t If using a different OpenMPI installation,\n",
      "\t or manually specifying path to OpenMPI, option\n",
      "\t '-mca orte_forward_job_control 1'\n",
      "\t must be added to mpirun to ensure cluster functionality.\n",
      "\n",
      "\t To use a GPU node, the consumable 'gpu' must be requested,\n",
      "\t including the number of GPUs required (e.g. 'qrsh -l gpu=2').\n",
      "\n",
      "\t Grid Engine documentation (e.g. User Guide) can be found in\n",
      "\t /dls_sw/cluster/docs and on Confluence.\n",
      "\n",
      "\t Interactive jobs are limited to 12 hours with a one hour default.\n",
      "\t To request more than one hour, use '-l h_rt=hh:mm:ss.\n",
      "\n",
      "\t Please report any issues to itsupport@diamond.ac.uk\n",
      "\n",
      "Your job-array 43509712.1-4:1 (\"batch_mib_convert.sh\") has been submitted\n"
     ]
    }
   ],
   "source": [
    "!python /dls_sw/e02/scripts/batch_mib_convert/batch_convert_cluster.py e02 2022 mg31270-1 -folder Merlin/Xe_300kV"
   ]
  },
  {
   "cell_type": "markdown",
   "metadata": {},
   "source": [
    "## If you have your MIB data all in Merlin folder with no sub-folders edit and run the follwoing command:\n",
    "\n",
    "The converted data will appear under the **Processing** folder."
   ]
  },
  {
   "cell_type": "code",
   "execution_count": 17,
   "metadata": {},
   "outputs": [
    {
     "name": "stdout",
     "output_type": "stream",
     "text": [
      "processing path:  /dls/e02/data/2022/mg31270-1/processing/Merlin\n",
      "number of MIB files to convert to HDF5 :  0\n",
      "\t\n",
      "\n",
      "\t Welcome to the DLS compute cluster\n",
      "\n",
      "\t For MPI jobs, please use 'module load openmpi'.\n",
      "\n",
      "\t If using a different OpenMPI installation,\n",
      "\t or manually specifying path to OpenMPI, option\n",
      "\t '-mca orte_forward_job_control 1'\n",
      "\t must be added to mpirun to ensure cluster functionality.\n",
      "\n",
      "\t To use a GPU node, the consumable 'gpu' must be requested,\n",
      "\t including the number of GPUs required (e.g. 'qrsh -l gpu=2').\n",
      "\n",
      "\t Grid Engine documentation (e.g. User Guide) can be found in\n",
      "\t /dls_sw/cluster/docs and on Confluence.\n",
      "\n",
      "\t Interactive jobs are limited to 12 hours with a one hour default.\n",
      "\t To request more than one hour, use '-l h_rt=hh:mm:ss.\n",
      "\n",
      "\t Please report any issues to itsupport@diamond.ac.uk\n",
      "\n",
      "Unable to run job: job rejected: 0 is an invalid task id.\n",
      "Exiting.\n"
     ]
    }
   ],
   "source": [
    "!python /dls_sw/e02/scripts/batch_mib_convert/batch_convert_cluster.py e02 2022 mg31270-1"
   ]
  },
  {
   "cell_type": "markdown",
   "metadata": {},
   "source": [
    "## In order to see the status of your cluster jobs run the follwoing two cells:"
   ]
  },
  {
   "cell_type": "code",
   "execution_count": 14,
   "metadata": {},
   "outputs": [
    {
     "name": "stdout",
     "output_type": "stream",
     "text": [
      "\t\r",
      "\r\n",
      "\r",
      "\r\n",
      "\t Welcome to the DLS compute cluster\r",
      "\r\n",
      "\r",
      "\r\n",
      "\t For MPI jobs, please use 'module load openmpi'.\r",
      "\r\n",
      "\r",
      "\r\n",
      "\t If using a different OpenMPI installation,\r",
      "\r\n",
      "\t or manually specifying path to OpenMPI, option\r",
      "\r\n",
      "\t '-mca orte_forward_job_control 1'\r",
      "\r\n",
      "\t must be added to mpirun to ensure cluster functionality.\r",
      "\r\n",
      "\r",
      "\r\n",
      "\t To use a GPU node, the consumable 'gpu' must be requested,\r",
      "\r\n",
      "\t including the number of GPUs required (e.g. 'qrsh -l gpu=2').\r",
      "\r\n",
      "\r",
      "\r\n",
      "\t Grid Engine documentation (e.g. User Guide) can be found in\r",
      "\r\n",
      "\t /dls_sw/cluster/docs and on Confluence.\r",
      "\r\n",
      "\r",
      "\r\n",
      "\t Interactive jobs are limited to 12 hours with a one hour default.\r",
      "\r\n",
      "\t To request more than one hour, use '-l h_rt=hh:mm:ss.\r",
      "\r\n",
      "\r",
      "\r\n",
      "\t Please report any issues to itsupport@diamond.ac.uk\r",
      "\r\n",
      "\r",
      "\r\n"
     ]
    }
   ],
   "source": [
    "!module load global/cluster"
   ]
  },
  {
   "cell_type": "code",
   "execution_count": 16,
   "metadata": {},
   "outputs": [],
   "source": [
    "!qstat"
   ]
  }
 ],
 "metadata": {
  "kernelspec": {
   "display_name": "Python 3",
   "language": "python",
   "name": "python3"
  },
  "language_info": {
   "codemirror_mode": {
    "name": "ipython",
    "version": 3
   },
   "file_extension": ".py",
   "mimetype": "text/x-python",
   "name": "python",
   "nbconvert_exporter": "python",
   "pygments_lexer": "ipython3",
   "version": "3.7.6"
  }
 },
 "nbformat": 4,
 "nbformat_minor": 4
}
